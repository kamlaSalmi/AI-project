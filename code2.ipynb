{
 "cells": [
  {
   "cell_type": "code",
   "execution_count": 1,
   "metadata": {},
   "outputs": [],
   "source": [
    "import numpy as np\n",
    "import cv2\n",
    "import matplotlib.image as im\n",
    "import numpy\n",
    "import matplotlib.pyplot as plt"
   ]
  },
  {
   "cell_type": "code",
   "execution_count": 2,
   "metadata": {},
   "outputs": [
    {
     "data": {
      "text/plain": [
       "['subject01.gif.jpg',\n",
       " 'subject01.glasses.jpg',\n",
       " 'subject01.happy.jpg',\n",
       " 'subject01.leftlight.jpg',\n",
       " 'subject01.noglasses.jpg',\n",
       " 'subject01.normal.jpg',\n",
       " 'subject01.rightlight.jpg',\n",
       " 'subject01.sad.jpg',\n",
       " 'subject01.sleepy.jpg',\n",
       " 'subject01.surprised.jpg',\n",
       " 'subject01.wink.jpg',\n",
       " 'subject02.centerlight.jpg',\n",
       " 'subject02.glasses.jpg',\n",
       " 'subject02.happy.jpg',\n",
       " 'subject02.leftlight.jpg',\n",
       " 'subject02.noglasses.jpg',\n",
       " 'subject02.normal.jpg',\n",
       " 'subject02.rightlight.jpg',\n",
       " 'subject02.sad.jpg',\n",
       " 'subject02.sleepy.jpg',\n",
       " 'subject02.surprised.jpg',\n",
       " 'subject02.wink.jpg',\n",
       " 'subject03.centerlight.jpg',\n",
       " 'subject03.glasses.jpg',\n",
       " 'subject03.happy.jpg',\n",
       " 'subject03.leftlight.jpg',\n",
       " 'subject03.noglasses.jpg',\n",
       " 'subject03.normal.jpg',\n",
       " 'subject03.rightlight.jpg',\n",
       " 'subject03.sad.jpg',\n",
       " 'subject03.sleepy.jpg',\n",
       " 'subject03.surprised.jpg',\n",
       " 'subject03.wink.jpg']"
      ]
     },
     "execution_count": 2,
     "metadata": {},
     "output_type": "execute_result"
    }
   ],
   "source": [
    "import os\n",
    "folder2 = r\"datasets\\classes\"\n",
    "file_names = os.listdir(folder2)\n",
    "file_names"
   ]
  },
  {
   "cell_type": "code",
   "execution_count": 3,
   "metadata": {},
   "outputs": [
    {
     "data": {
      "text/plain": [
       "33"
      ]
     },
     "execution_count": 3,
     "metadata": {},
     "output_type": "execute_result"
    }
   ],
   "source": [
    "len(file_names)"
   ]
  },
  {
   "cell_type": "code",
   "execution_count": 4,
   "metadata": {},
   "outputs": [],
   "source": [
    "# load all the images and store them into an array\n",
    "fd = cv2.CascadeClassifier(r\"haarcascade_frontalface_alt.xml\")\n",
    "def load_image(imgname):\n",
    "    img = im.imread(folder2+'\\\\'+imgname) # load the image\n",
    "    corners = fd.detectMultiScale(img,1.3,4) # get the face corners\n",
    "    (x,y,w,h) = corners[0] # get the face corners\n",
    "    img = img[y-20:y+h+20,x-20:x+w+20]  # cropping the face area from the image\n",
    "    img = cv2.resize(img,(100,100)) # resizing every image to 100x100\n",
    "    return img"
   ]
  },
  {
   "cell_type": "code",
   "execution_count": 5,
   "metadata": {},
   "outputs": [],
   "source": [
    "trainimg = []\n",
    "trainlb = []\n",
    "for imgname in file_names:\n",
    "    img = load_image(imgname)\n",
    "    trainimg.append(img)\n",
    "    trainlb.append(imgname[:9])"
   ]
  },
  {
   "cell_type": "code",
   "execution_count": 6,
   "metadata": {},
   "outputs": [
    {
     "data": {
      "text/plain": [
       "['subject01',\n",
       " 'subject01',\n",
       " 'subject01',\n",
       " 'subject01',\n",
       " 'subject01',\n",
       " 'subject01',\n",
       " 'subject01',\n",
       " 'subject01',\n",
       " 'subject01',\n",
       " 'subject01',\n",
       " 'subject01',\n",
       " 'subject02',\n",
       " 'subject02',\n",
       " 'subject02',\n",
       " 'subject02',\n",
       " 'subject02',\n",
       " 'subject02',\n",
       " 'subject02',\n",
       " 'subject02',\n",
       " 'subject02',\n",
       " 'subject02',\n",
       " 'subject02',\n",
       " 'subject03',\n",
       " 'subject03',\n",
       " 'subject03',\n",
       " 'subject03',\n",
       " 'subject03',\n",
       " 'subject03',\n",
       " 'subject03',\n",
       " 'subject03',\n",
       " 'subject03',\n",
       " 'subject03',\n",
       " 'subject03']"
      ]
     },
     "execution_count": 6,
     "metadata": {},
     "output_type": "execute_result"
    }
   ],
   "source": [
    "trainlb"
   ]
  },
  {
   "cell_type": "code",
   "execution_count": 7,
   "metadata": {},
   "outputs": [
    {
     "data": {
      "text/plain": [
       "(33, 100, 100)"
      ]
     },
     "execution_count": 7,
     "metadata": {},
     "output_type": "execute_result"
    }
   ],
   "source": [
    "trainimg = numpy.array(trainimg)\n",
    "trainimg.shape"
   ]
  },
  {
   "cell_type": "code",
   "execution_count": 8,
   "metadata": {},
   "outputs": [
    {
     "data": {
      "text/plain": [
       "<matplotlib.image.AxesImage at 0x1dd67942a20>"
      ]
     },
     "execution_count": 8,
     "metadata": {},
     "output_type": "execute_result"
    },
    {
     "data": {
      "image/png": "[encoded data removed]",
      "text/plain": [
       "<Figure size 432x288 with 1 Axes>"
      ]
     },
     "metadata": {
      "needs_background": "light"
     },
     "output_type": "display_data"
    }
   ],
   "source": [
    "plt.imshow(trainimg[0],cmap='gray')"
   ]
  },
  {
   "cell_type": "code",
   "execution_count": 9,
   "metadata": {},
   "outputs": [],
   "source": [
    "trainimg = trainimg.reshape(33,1,100,100)\n",
    "#scale the images\n",
    "trainimg = trainimg/255"
   ]
  },
  {
   "cell_type": "code",
   "execution_count": 10,
   "metadata": {},
   "outputs": [
    {
     "name": "stdout",
     "output_type": "stream",
     "text": [
      "(33, 1, 100, 100)\n",
      "(33, 3)\n"
     ]
    }
   ],
   "source": [
    "# onehot encoding of labels\n",
    "trainlb = numpy.array(trainlb).reshape(33,1)\n",
    "from sklearn.preprocessing import OneHotEncoder\n",
    "trainlb = OneHotEncoder().fit_transform(trainlb).toarray()\n",
    "print(trainimg.shape)\n",
    "print(trainlb.shape)"
   ]
  },
  {
   "cell_type": "code",
   "execution_count": 11,
   "metadata": {},
   "outputs": [
    {
     "name": "stderr",
     "output_type": "stream",
     "text": [
      "Using TensorFlow backend.\n"
     ]
    }
   ],
   "source": [
    "from keras import models,layers\n",
    "from keras import backend\n",
    "backend.set_image_data_format(\"channels_first\")"
   ]
  },
  {
   "cell_type": "code",
   "execution_count": 12,
   "metadata": {},
   "outputs": [],
   "source": [
    "model = models.Sequential()"
   ]
  },
  {
   "cell_type": "code",
   "execution_count": 13,
   "metadata": {},
   "outputs": [
    {
     "name": "stdout",
     "output_type": "stream",
     "text": [
      "WARNING:tensorflow:From C:\\Users\\user\\AppData\\Roaming\\Python\\Python37\\site-packages\\tensorflow\\python\\framework\\op_def_library.py:263: colocate_with (from tensorflow.python.framework.ops) is deprecated and will be removed in a future version.\n",
      "Instructions for updating:\n",
      "Colocations handled automatically by placer.\n"
     ]
    }
   ],
   "source": [
    "# first convolutional layer\n",
    "model.add(layers.Conv2D(filters=20,kernel_size=(5,5),activation='relu',\n",
    "                       input_shape=(1,100,100)))\n",
    "# maxpooling layer\n",
    "model.add(layers.MaxPooling2D(pool_size=(2,2)))"
   ]
  },
  {
   "cell_type": "code",
   "execution_count": 14,
   "metadata": {},
   "outputs": [],
   "source": [
    "# second convolutional layer\n",
    "model.add(layers.Conv2D(filters=40,kernel_size=(5,5),activation='relu'))\n",
    "# maxpooling layer\n",
    "model.add(layers.MaxPooling2D(pool_size=(2,2)))"
   ]
  },
  {
   "cell_type": "code",
   "execution_count": 15,
   "metadata": {},
   "outputs": [],
   "source": [
    "# add a flatten layer\n",
    "model.add(layers.Flatten())\n",
    "# hidden layer\n",
    "model.add(layers.Dense(80,activation='relu'))\n",
    "#add the output layer\n",
    "model.add(layers.Dense(3,activation='sigmoid'))"
   ]
  },
  {
   "cell_type": "code",
   "execution_count": 16,
   "metadata": {},
   "outputs": [
    {
     "name": "stdout",
     "output_type": "stream",
     "text": [
      "WARNING:tensorflow:From C:\\Users\\user\\AppData\\Roaming\\Python\\Python37\\site-packages\\tensorflow\\python\\ops\\math_ops.py:3066: to_int32 (from tensorflow.python.ops.math_ops) is deprecated and will be removed in a future version.\n",
      "Instructions for updating:\n",
      "Use tf.cast instead.\n",
      "Epoch 1/10\n",
      "33/33 [==============================] - 1s 32ms/step - loss: 1.0936 - acc: 0.3636\n",
      "Epoch 2/10\n",
      "33/33 [==============================] - 1s 19ms/step - loss: 1.3828 - acc: 0.3333\n",
      "Epoch 3/10\n",
      "33/33 [==============================] - 1s 19ms/step - loss: 1.1734 - acc: 0.3333\n",
      "Epoch 4/10\n",
      "33/33 [==============================] - 1s 19ms/step - loss: 1.0527 - acc: 0.6061\n",
      "Epoch 5/10\n",
      "33/33 [==============================] - 1s 19ms/step - loss: 1.0219 - acc: 0.3333\n",
      "Epoch 6/10\n",
      "33/33 [==============================] - 1s 19ms/step - loss: 1.0203 - acc: 0.3636\n",
      "Epoch 7/10\n",
      "33/33 [==============================] - 1s 19ms/step - loss: 0.9786 - acc: 0.7879\n",
      "Epoch 8/10\n",
      "33/33 [==============================] - 1s 19ms/step - loss: 0.9370 - acc: 0.6061\n",
      "Epoch 9/10\n",
      "33/33 [==============================] - 1s 19ms/step - loss: 0.9233 - acc: 0.3333\n",
      "Epoch 10/10\n",
      "33/33 [==============================] - 1s 20ms/step - loss: 0.7377 - acc: 0.6364\n"
     ]
    },
    {
     "data": {
      "text/plain": [
       "<keras.callbacks.History at 0x1dd66c59860>"
      ]
     },
     "execution_count": 16,
     "metadata": {},
     "output_type": "execute_result"
    }
   ],
   "source": [
    "#compile the model\n",
    "model.compile(loss='categorical_crossentropy',metrics=['accuracy'],\n",
    "             optimizer='adam')\n",
    "# train the model\n",
    "model.fit(trainimg,trainlb,batch_size=None,epochs=10,verbose=True)"
   ]
  },
  {
   "cell_type": "code",
   "execution_count": 35,
   "metadata": {},
   "outputs": [],
   "source": [
    "# testing\n",
    "labels = ['subject01','subject02',\"subject03\"]\n",
    "def load_image2(img):\n",
    "    corners = fd.detectMultiScale(img,1.3,4) # get the face corners\n",
    "    if len(corners)==0:\n",
    "        return None,None\n",
    "    else:\n",
    "        (x,y,w,h) = corners[0] # get the face corners\n",
    "        img2 = img[y-20:y+h+20,x-20:x+w+20]  # cropping the face area from the image\n",
    "        img2 = cv2.resize(img2,(100,100)) # resizing every image to 100x100\n",
    "        output = model.predict_classes(img2.reshape(1,1,100,100))\n",
    "        output = labels[output[0]]\n",
    "        return output, corners\n",
    "        "
   ]
  },
  {
   "cell_type": "code",
   "execution_count": 36,
   "metadata": {},
   "outputs": [
    {
     "name": "stdout",
     "output_type": "stream",
     "text": [
      "('subject01', array([[106,  56, 154, 154]], dtype=int32))\n"
     ]
    },
    {
     "data": {
      "image/png": "[encoded data removed]",
      "text/plain": [
       "<Figure size 432x288 with 1 Axes>"
      ]
     },
     "metadata": {
      "needs_background": "light"
     },
     "output_type": "display_data"
    }
   ],
   "source": [
    "path = \"datasets\\classes\\subject01.sad.jpg\"\n",
    "img = im.imread(path)\n",
    "output = load_image2(img)\n",
    "print(output)\n",
    "plt.imshow(img,cmap='gray')\n",
    "plt.show()\n"
   ]
  },
  {
   "cell_type": "code",
   "execution_count": 27,
   "metadata": {},
   "outputs": [],
   "source": [
    "img = cv2.imread(path)"
   ]
  },
  {
   "cell_type": "code",
   "execution_count": 34,
   "metadata": {},
   "outputs": [
    {
     "data": {
      "text/plain": [
       "(243, 320)"
      ]
     },
     "execution_count": 34,
     "metadata": {},
     "output_type": "execute_result"
    }
   ],
   "source": [
    "img.shape"
   ]
  },
  {
   "cell_type": "code",
   "execution_count": null,
   "metadata": {},
   "outputs": [],
   "source": []
  }
 ],
 "metadata": {
  "kernelspec": {
   "display_name": "Python 3",
   "language": "python",
   "name": "python3"
  },
  "language_info": {
   "codemirror_mode": {
    "name": "ipython",
    "version": 3
   },
   "file_extension": ".py",
   "mimetype": "text/x-python",
   "name": "python",
   "nbconvert_exporter": "python",
   "pygments_lexer": "ipython3",
   "version": "3.7.0"
  }
 },
 "nbformat": 4,
 "nbformat_minor": 2
}

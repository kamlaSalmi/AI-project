{
 "cells": [
  {
   "cell_type": "code",
   "execution_count": 1,
   "metadata": {},
   "outputs": [],
   "source": [
    "\n",
    "import cv2\n",
    "import matplotlib.image as im\n",
    "import numpy\n",
    "import matplotlib.pyplot as plt"
   ]
  },
  {
   "cell_type": "code",
   "execution_count": 3,
   "metadata": {},
   "outputs": [
    {
     "name": "stdout",
     "output_type": "stream",
     "text": [
      "167\n",
      "['Readme.txt', 'subject01.gif.jpg.jpg', 'subject01.glasses.gif.jpg.jpg', 'subject01.glasses.jpg.jpg', 'subject01.happy.jpg.jpg', 'subject01.leftlight.jpg.jpg', 'subject01.noglasses.jpg.jpg', 'subject01.normal.jpg.jpg', 'subject01.rightlight.jpg.jpg', 'subject01.sad.jpg.jpg', 'subject01.sleepy.jpg.jpg', 'subject01.surprised.jpg.jpg', 'subject01.wink.jpg.jpg', 'subject02.centerlight.jpg.jpg', 'subject02.glasses.jpg.jpg', 'subject02.happy.jpg.jpg', 'subject02.leftlight.jpg.jpg', 'subject02.noglasses.jpg.jpg', 'subject02.normal.jpg.jpg', 'subject02.rightlight.jpg.jpg', 'subject02.sad.jpg.jpg', 'subject02.sleepy.jpg.jpg', 'subject02.surprised.jpg.jpg', 'subject02.wink.jpg.jpg', 'subject03.centerlight.jpg.jpg', 'subject03.glasses.jpg.jpg', 'subject03.happy.jpg.jpg', 'subject03.leftlight.jpg.jpg', 'subject03.noglasses.jpg.jpg', 'subject03.normal.jpg.jpg', 'subject03.rightlight.jpg.jpg', 'subject03.sad.jpg.jpg', 'subject03.sleepy.jpg.jpg', 'subject03.surprised.jpg.jpg', 'subject03.wink.jpg.jpg', 'subject04.centerlight.jpg.jpg', 'subject04.glasses.jpg.jpg', 'subject04.happy.jpg.jpg', 'subject04.leftlight.jpg.jpg', 'subject04.noglasses.jpg.jpg', 'subject04.normal.jpg.jpg', 'subject04.rightlight.jpg.jpg', 'subject04.sad.jpg.jpg', 'subject04.sleepy.jpg.jpg', 'subject04.surprised.jpg.jpg', 'subject04.wink.jpg.jpg', 'subject05.centerlight.jpg.jpg', 'subject05.glasses.jpg.jpg', 'subject05.happy.jpg.jpg', 'subject05.leftlight.jpg.jpg', 'subject05.noglasses.jpg.jpg', 'subject05.normal.jpg.jpg', 'subject05.rightlight.jpg.jpg', 'subject05.sad.jpg.jpg', 'subject05.sleepy.jpg.jpg', 'subject05.surprised.jpg.jpg', 'subject05.wink.jpg.jpg', 'subject06.centerlight.jpg.jpg', 'subject06.glasses.jpg.jpg', 'subject06.happy.jpg.jpg', 'subject06.leftlight.jpg.jpg', 'subject06.noglasses.jpg.jpg', 'subject06.normal.jpg.jpg', 'subject06.rightlight.jpg.jpg', 'subject06.sad.jpg.jpg', 'subject06.sleepy.jpg.jpg', 'subject06.surprised.jpg.jpg', 'subject06.wink.jpg.jpg', 'subject07.centerlight.jpg.jpg', 'subject07.glasses.jpg.jpg', 'subject07.happy.jpg.jpg', 'subject07.leftlight.jpg.jpg', 'subject07.noglasses.jpg.jpg', 'subject07.normal.jpg.jpg', 'subject07.rightlight.jpg.jpg', 'subject07.sad.jpg.jpg', 'subject07.sleepy.jpg.jpg', 'subject07.surprised.jpg.jpg', 'subject07.wink.jpg.jpg', 'subject08.centerlight.jpg.jpg', 'subject08.glasses.jpg.jpg', 'subject08.happy.jpg.jpg', 'subject08.leftlight.jpg.jpg', 'subject08.noglasses.jpg.jpg', 'subject08.normal.jpg.jpg', 'subject08.rightlight.jpg.jpg', 'subject08.sad.jpg.jpg', 'subject08.sleepy.jpg.jpg', 'subject08.surprised.jpg.jpg', 'subject08.wink.jpg.jpg', 'subject09.centerlight.jpg.jpg', 'subject09.glasses.jpg.jpg', 'subject09.happy.jpg.jpg', 'subject09.leftlight.jpg.jpg', 'subject09.noglasses.jpg.jpg', 'subject09.normal.jpg.jpg', 'subject09.rightlight.jpg.jpg', 'subject09.sad.jpg.jpg', 'subject09.sleepy.jpg.jpg', 'subject09.surprised.jpg.jpg', 'subject09.wink.jpg.jpg', 'subject10.centerlight.jpg.jpg', 'subject10.glasses.jpg.jpg', 'subject10.happy.jpg.jpg', 'subject10.leftlight.jpg.jpg', 'subject10.noglasses.jpg.jpg', 'subject10.normal.jpg.jpg', 'subject10.rightlight.jpg.jpg', 'subject10.sad.jpg.jpg', 'subject10.sleepy.jpg.jpg', 'subject10.surprised.jpg.jpg', 'subject10.wink.jpg.jpg', 'subject11.centerlight.jpg.jpg', 'subject11.glasses.jpg.jpg', 'subject11.happy.jpg.jpg', 'subject11.leftlight.jpg.jpg', 'subject11.noglasses.jpg.jpg', 'subject11.normal.jpg.jpg', 'subject11.rightlight.jpg.jpg', 'subject11.sad.jpg.jpg', 'subject11.sleepy.jpg.jpg', 'subject11.surprised.jpg.jpg', 'subject11.wink.jpg.jpg', 'subject12.centerlight.jpg.jpg', 'subject12.glasses.jpg.jpg', 'subject12.happy.jpg.jpg', 'subject12.leftlight.jpg.jpg', 'subject12.noglasses.jpg.jpg', 'subject12.normal.jpg.jpg', 'subject12.rightlight.jpg.jpg', 'subject12.sad.jpg.jpg', 'subject12.sleepy.jpg.jpg', 'subject12.surprised.jpg.jpg', 'subject12.wink.jpg.jpg', 'subject13.centerlight.jpg.jpg', 'subject13.glasses.jpg.jpg', 'subject13.happy.jpg.jpg', 'subject13.leftlight.jpg.jpg', 'subject13.noglasses.jpg.jpg', 'subject13.normal.jpg.jpg', 'subject13.rightlight.jpg.jpg', 'subject13.sad.jpg.jpg', 'subject13.sleepy.jpg.jpg', 'subject13.surprised.jpg.jpg', 'subject13.wink.jpg.jpg', 'subject14.centerlight.jpg.jpg', 'subject14.glasses.jpg.jpg', 'subject14.happy.jpg.jpg', 'subject14.leftlight.jpg.jpg', 'subject14.noglasses.jpg.jpg', 'subject14.normal.jpg.jpg', 'subject14.rightlight.jpg.jpg', 'subject14.sad.jpg.jpg', 'subject14.sleepy.jpg.jpg', 'subject14.surprised.jpg.jpg', 'subject14.wink.jpg.jpg', 'subject15.centerlight.jpg.jpg', 'subject15.glasses.jpg.jpg', 'subject15.happy.jpg.jpg', 'subject15.leftlight.jpg.jpg', 'subject15.noglasses.jpg.jpg', 'subject15.normal.jpg.jpg', 'subject15.rightlight.jpg.jpg', 'subject15.sad.jpg.jpg', 'subject15.sleepy.jpg.jpg', 'subject15.surprised.jpg.jpg', 'subject15.wink.jpg.jpg']\n"
     ]
    }
   ],
   "source": [
    "import os\n",
    "folder1 = r\"datasets\\yalefaces\"\n",
    "file_names = os.listdir(folder1)\n",
    "print(len(file_names))\n",
    "print(file_names)"
   ]
  },
  {
   "cell_type": "code",
   "execution_count": 4,
   "metadata": {},
   "outputs": [],
   "source": [
    "for file in file_names:\n",
    "    if \"subject\" in file:\n",
    "        os.rename(folder1+\"\\\\\"+file,folder1+\"\\\\\"+file+\".jpg\")"
   ]
  },
  {
   "cell_type": "code",
   "execution_count": null,
   "metadata": {},
   "outputs": [],
   "source": []
  }
 ],
 "metadata": {
  "kernelspec": {
   "display_name": "Python 3",
   "language": "python",
   "name": "python3"
  },
  "language_info": {
   "codemirror_mode": {
    "name": "ipython",
    "version": 3
   },
   "file_extension": ".py",
   "mimetype": "text/x-python",
   "name": "python",
   "nbconvert_exporter": "python",
   "pygments_lexer": "ipython3",
   "version": "3.7.0"
  }
 },
 "nbformat": 4,
 "nbformat_minor": 2
}

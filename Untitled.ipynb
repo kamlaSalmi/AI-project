{
 "cells": [
  {
   "cell_type": "code",
   "execution_count": 1,
   "metadata": {},
   "outputs": [],
   "source": [
    "import cv2\n",
    "import matplotlib.image as im\n",
    "import numpy\n",
    "import matplotlib.pyplot as plt"
   ]
  },
  {
   "cell_type": "code",
   "execution_count": 3,
   "metadata": {},
   "outputs": [
    {
     "name": "stdout",
     "output_type": "stream",
     "text": [
      "11\n",
      "['subject04.glasses.jpg.jpg.jpgunknown.jpg', 'subject04.noglasses.jpg.jpg.jpgunknown.jpg', 'subject05.centerlight.jpg.jpg.jpgunknown.jpg', 'subject06.glasses.jpg.jpg.jpgunknown.jpg', 'subject07.glasses.jpg.jpg.jpgunknown.jpg', 'subject08.sad.jpg.jpg.jpgunknown.jpg', 'subject09.normal.jpg.jpg.jpgunknown.jpg', 'subject11.noglasses.jpg.jpg.jpgunknown.jpg', 'subject14.glasses.jpg.jpg.jpgunknown.jpg', 'subject14.surprised.jpg.jpg.jpgunknown.jpg', 'subject15.noglasses.jpg.jpg.jpgunknown.jpg']\n"
     ]
    }
   ],
   "source": [
    "import os\n",
    "folder1 = r\"datasets\\unknown\"\n",
    "file_names = os.listdir(folder1)\n",
    "print(len(file_names))\n",
    "print(file_names)"
   ]
  },
  {
   "cell_type": "code",
   "execution_count": null,
   "metadata": {},
   "outputs": [],
   "source": []
  }
 ],
 "metadata": {
  "kernelspec": {
   "display_name": "Python 3",
   "language": "python",
   "name": "python3"
  },
  "language_info": {
   "codemirror_mode": {
    "name": "ipython",
    "version": 3
   },
   "file_extension": ".py",
   "mimetype": "text/x-python",
   "name": "python",
   "nbconvert_exporter": "python",
   "pygments_lexer": "ipython3",
   "version": "3.7.0"
  }
 },
 "nbformat": 4,
 "nbformat_minor": 2
}
